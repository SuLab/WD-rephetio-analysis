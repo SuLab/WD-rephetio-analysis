{
 "cells": [
  {
   "cell_type": "markdown",
   "metadata": {},
   "source": [
    "# Converting the indications in DrugCentral to WikiData identifiers"
   ]
  },
  {
   "cell_type": "code",
   "execution_count": 1,
   "metadata": {},
   "outputs": [],
   "source": [
    "import os\n",
    "import requests\n",
    "import pandas as pd\n",
    "from pathlib import Path\n",
    "from hetnet_ml.src import graph_tools as gt"
   ]
  },
  {
   "cell_type": "markdown",
   "metadata": {},
   "source": [
    "### Drugcentral Data Dump previously extracted from postgres dump\n",
    "\n",
    "See [here](https://github.com/mmayers12/semmed/tree/master/prepare) for more info."
   ]
  },
  {
   "cell_type": "code",
   "execution_count": 2,
   "metadata": {},
   "outputs": [],
   "source": [
    "sm_data_dir = Path('../../semmed/data/')"
   ]
  },
  {
   "cell_type": "code",
   "execution_count": 3,
   "metadata": {},
   "outputs": [],
   "source": [
    "rel = pd.read_csv(sm_data_dir.joinpath('drugcentral_rel_06212018.csv'))\n",
    "syn = pd.read_csv(sm_data_dir.joinpath('drugcentral_syn_06212018.csv'))\n",
    "ids = pd.read_csv(sm_data_dir.joinpath('drugcentral_ids_06212018.csv'))"
   ]
  },
  {
   "cell_type": "code",
   "execution_count": 4,
   "metadata": {},
   "outputs": [
    {
     "data": {
      "text/html": [
       "<div>\n",
       "<style scoped>\n",
       "    .dataframe tbody tr th:only-of-type {\n",
       "        vertical-align: middle;\n",
       "    }\n",
       "\n",
       "    .dataframe tbody tr th {\n",
       "        vertical-align: top;\n",
       "    }\n",
       "\n",
       "    .dataframe thead th {\n",
       "        text-align: right;\n",
       "    }\n",
       "</style>\n",
       "<table border=\"1\" class=\"dataframe\">\n",
       "  <thead>\n",
       "    <tr style=\"text-align: right;\">\n",
       "      <th></th>\n",
       "      <th>id</th>\n",
       "      <th>struct_id</th>\n",
       "      <th>concept_id</th>\n",
       "      <th>relationship_name</th>\n",
       "      <th>concept_name</th>\n",
       "      <th>umls_cui</th>\n",
       "      <th>snomed_full_name</th>\n",
       "      <th>cui_semantic_type</th>\n",
       "      <th>snomed_conceptid</th>\n",
       "    </tr>\n",
       "  </thead>\n",
       "  <tbody>\n",
       "    <tr>\n",
       "      <th>0</th>\n",
       "      <td>173432</td>\n",
       "      <td>965</td>\n",
       "      <td>40249340</td>\n",
       "      <td>indication</td>\n",
       "      <td>Malignant tumor of breast</td>\n",
       "      <td>C0006142</td>\n",
       "      <td>Malignant tumor of breast</td>\n",
       "      <td>T191</td>\n",
       "      <td>254837009.0</td>\n",
       "    </tr>\n",
       "    <tr>\n",
       "      <th>1</th>\n",
       "      <td>173433</td>\n",
       "      <td>318</td>\n",
       "      <td>21000716</td>\n",
       "      <td>indication</td>\n",
       "      <td>Gout</td>\n",
       "      <td>C0018099</td>\n",
       "      <td>Gout</td>\n",
       "      <td>T047</td>\n",
       "      <td>90560007.0</td>\n",
       "    </tr>\n",
       "    <tr>\n",
       "      <th>2</th>\n",
       "      <td>173434</td>\n",
       "      <td>318</td>\n",
       "      <td>21003276</td>\n",
       "      <td>indication</td>\n",
       "      <td>Hyperuricemia</td>\n",
       "      <td>C0740394</td>\n",
       "      <td>Hyperuricemia</td>\n",
       "      <td>T047</td>\n",
       "      <td>35885006.0</td>\n",
       "    </tr>\n",
       "    <tr>\n",
       "      <th>3</th>\n",
       "      <td>173435</td>\n",
       "      <td>1031</td>\n",
       "      <td>21001432</td>\n",
       "      <td>indication</td>\n",
       "      <td>Hypertensive disorder</td>\n",
       "      <td>C0020538</td>\n",
       "      <td>Hypertensive disorder</td>\n",
       "      <td>T047</td>\n",
       "      <td>38341003.0</td>\n",
       "    </tr>\n",
       "    <tr>\n",
       "      <th>4</th>\n",
       "      <td>173397</td>\n",
       "      <td>5226</td>\n",
       "      <td>21001068</td>\n",
       "      <td>indication</td>\n",
       "      <td>Tardive dyskinesia</td>\n",
       "      <td>C0686347</td>\n",
       "      <td>Tardive dyskinesia</td>\n",
       "      <td>T047</td>\n",
       "      <td>102449007.0</td>\n",
       "    </tr>\n",
       "  </tbody>\n",
       "</table>\n",
       "</div>"
      ],
      "text/plain": [
       "       id  struct_id  concept_id relationship_name               concept_name  \\\n",
       "0  173432        965    40249340        indication  Malignant tumor of breast   \n",
       "1  173433        318    21000716        indication                       Gout   \n",
       "2  173434        318    21003276        indication              Hyperuricemia   \n",
       "3  173435       1031    21001432        indication      Hypertensive disorder   \n",
       "4  173397       5226    21001068        indication         Tardive dyskinesia   \n",
       "\n",
       "   umls_cui           snomed_full_name cui_semantic_type  snomed_conceptid  \n",
       "0  C0006142  Malignant tumor of breast              T191       254837009.0  \n",
       "1  C0018099                       Gout              T047        90560007.0  \n",
       "2  C0740394              Hyperuricemia              T047        35885006.0  \n",
       "3  C0020538      Hypertensive disorder              T047        38341003.0  \n",
       "4  C0686347         Tardive dyskinesia              T047       102449007.0  "
      ]
     },
     "execution_count": 4,
     "metadata": {},
     "output_type": "execute_result"
    }
   ],
   "source": [
    "rel.head()"
   ]
  },
  {
   "cell_type": "code",
   "execution_count": 5,
   "metadata": {},
   "outputs": [
    {
     "data": {
      "text/html": [
       "<div>\n",
       "<style scoped>\n",
       "    .dataframe tbody tr th:only-of-type {\n",
       "        vertical-align: middle;\n",
       "    }\n",
       "\n",
       "    .dataframe tbody tr th {\n",
       "        vertical-align: top;\n",
       "    }\n",
       "\n",
       "    .dataframe thead th {\n",
       "        text-align: right;\n",
       "    }\n",
       "</style>\n",
       "<table border=\"1\" class=\"dataframe\">\n",
       "  <thead>\n",
       "    <tr style=\"text-align: right;\">\n",
       "      <th></th>\n",
       "      <th>syn_id</th>\n",
       "      <th>id</th>\n",
       "      <th>name</th>\n",
       "      <th>preferred_name</th>\n",
       "      <th>parent_id</th>\n",
       "      <th>lname</th>\n",
       "    </tr>\n",
       "  </thead>\n",
       "  <tbody>\n",
       "    <tr>\n",
       "      <th>0</th>\n",
       "      <td>22490</td>\n",
       "      <td>5253.0</td>\n",
       "      <td>RPX-7009</td>\n",
       "      <td>NaN</td>\n",
       "      <td>NaN</td>\n",
       "      <td>rpx-7009</td>\n",
       "    </tr>\n",
       "    <tr>\n",
       "      <th>1</th>\n",
       "      <td>22493</td>\n",
       "      <td>5003.0</td>\n",
       "      <td>insulin (human)</td>\n",
       "      <td>NaN</td>\n",
       "      <td>NaN</td>\n",
       "      <td>insulin (human)</td>\n",
       "    </tr>\n",
       "    <tr>\n",
       "      <th>2</th>\n",
       "      <td>22494</td>\n",
       "      <td>5191.0</td>\n",
       "      <td>insulin (pork)</td>\n",
       "      <td>NaN</td>\n",
       "      <td>NaN</td>\n",
       "      <td>insulin (pork)</td>\n",
       "    </tr>\n",
       "    <tr>\n",
       "      <th>3</th>\n",
       "      <td>22495</td>\n",
       "      <td>5192.0</td>\n",
       "      <td>insulin (beef)</td>\n",
       "      <td>NaN</td>\n",
       "      <td>NaN</td>\n",
       "      <td>insulin (beef)</td>\n",
       "    </tr>\n",
       "    <tr>\n",
       "      <th>4</th>\n",
       "      <td>22496</td>\n",
       "      <td>1762.0</td>\n",
       "      <td>methyldopa (levorotatory)</td>\n",
       "      <td>NaN</td>\n",
       "      <td>NaN</td>\n",
       "      <td>methyldopa (levorotatory)</td>\n",
       "    </tr>\n",
       "  </tbody>\n",
       "</table>\n",
       "</div>"
      ],
      "text/plain": [
       "   syn_id      id                       name  preferred_name  parent_id  \\\n",
       "0   22490  5253.0                   RPX-7009             NaN        NaN   \n",
       "1   22493  5003.0            insulin (human)             NaN        NaN   \n",
       "2   22494  5191.0             insulin (pork)             NaN        NaN   \n",
       "3   22495  5192.0             insulin (beef)             NaN        NaN   \n",
       "4   22496  1762.0  methyldopa (levorotatory)             NaN        NaN   \n",
       "\n",
       "                       lname  \n",
       "0                   rpx-7009  \n",
       "1            insulin (human)  \n",
       "2             insulin (pork)  \n",
       "3             insulin (beef)  \n",
       "4  methyldopa (levorotatory)  "
      ]
     },
     "execution_count": 5,
     "metadata": {},
     "output_type": "execute_result"
    }
   ],
   "source": [
    "syn.head()"
   ]
  },
  {
   "cell_type": "code",
   "execution_count": 6,
   "metadata": {},
   "outputs": [
    {
     "data": {
      "text/html": [
       "<div>\n",
       "<style scoped>\n",
       "    .dataframe tbody tr th:only-of-type {\n",
       "        vertical-align: middle;\n",
       "    }\n",
       "\n",
       "    .dataframe tbody tr th {\n",
       "        vertical-align: top;\n",
       "    }\n",
       "\n",
       "    .dataframe thead th {\n",
       "        text-align: right;\n",
       "    }\n",
       "</style>\n",
       "<table border=\"1\" class=\"dataframe\">\n",
       "  <thead>\n",
       "    <tr style=\"text-align: right;\">\n",
       "      <th></th>\n",
       "      <th>id</th>\n",
       "      <th>identifier</th>\n",
       "      <th>id_type</th>\n",
       "      <th>struct_id</th>\n",
       "      <th>parent_match</th>\n",
       "    </tr>\n",
       "  </thead>\n",
       "  <tbody>\n",
       "    <tr>\n",
       "      <th>0</th>\n",
       "      <td>1214712</td>\n",
       "      <td>D11040</td>\n",
       "      <td>KEGG_DRUG</td>\n",
       "      <td>5278</td>\n",
       "      <td>NaN</td>\n",
       "    </tr>\n",
       "    <tr>\n",
       "      <th>1</th>\n",
       "      <td>1214713</td>\n",
       "      <td>9745</td>\n",
       "      <td>IUPHAR_LIGAND_ID</td>\n",
       "      <td>5271</td>\n",
       "      <td>NaN</td>\n",
       "    </tr>\n",
       "    <tr>\n",
       "      <th>2</th>\n",
       "      <td>1214714</td>\n",
       "      <td>9088</td>\n",
       "      <td>IUPHAR_LIGAND_ID</td>\n",
       "      <td>3911</td>\n",
       "      <td>NaN</td>\n",
       "    </tr>\n",
       "    <tr>\n",
       "      <th>3</th>\n",
       "      <td>1214715</td>\n",
       "      <td>CHEBI:43362</td>\n",
       "      <td>CHEBI</td>\n",
       "      <td>5229</td>\n",
       "      <td>NaN</td>\n",
       "    </tr>\n",
       "    <tr>\n",
       "      <th>4</th>\n",
       "      <td>1214716</td>\n",
       "      <td>CHEBI:63452</td>\n",
       "      <td>CHEBI</td>\n",
       "      <td>5231</td>\n",
       "      <td>NaN</td>\n",
       "    </tr>\n",
       "  </tbody>\n",
       "</table>\n",
       "</div>"
      ],
      "text/plain": [
       "        id   identifier           id_type  struct_id parent_match\n",
       "0  1214712       D11040         KEGG_DRUG       5278          NaN\n",
       "1  1214713         9745  IUPHAR_LIGAND_ID       5271          NaN\n",
       "2  1214714         9088  IUPHAR_LIGAND_ID       3911          NaN\n",
       "3  1214715  CHEBI:43362             CHEBI       5229          NaN\n",
       "4  1214716  CHEBI:63452             CHEBI       5231          NaN"
      ]
     },
     "execution_count": 6,
     "metadata": {},
     "output_type": "execute_result"
    }
   ],
   "source": [
    "ids.head()"
   ]
  },
  {
   "cell_type": "code",
   "execution_count": 7,
   "metadata": {},
   "outputs": [
    {
     "data": {
      "text/plain": [
       "array(['KEGG_DRUG', 'IUPHAR_LIGAND_ID', 'CHEBI', 'DRUGBANK_ID', 'VUID',\n",
       "       'NUI', 'UMLSCUI', 'ChEMBL_ID', 'UNII', 'INN_ID',\n",
       "       'SECONDARY_CAS_RN', 'PUBCHEM_CID', 'RXNORM', 'NDDF', 'MMSL',\n",
       "       'VANDF', 'NDFRT', 'SNOMEDCT_US', 'MESH_SUPPLEMENTAL_RECORD_UI',\n",
       "       'MESH_DESCRIPTOR_UI', 'PDB_CHEM_ID'], dtype=object)"
      ]
     },
     "execution_count": 7,
     "metadata": {},
     "output_type": "execute_result"
    }
   ],
   "source": [
    "ids['id_type'].unique()"
   ]
  },
  {
   "cell_type": "code",
   "execution_count": 8,
   "metadata": {},
   "outputs": [
    {
     "data": {
      "text/plain": [
       "ChEMBL_ID                      6148\n",
       "SNOMEDCT_US                    4976\n",
       "UNII                           4391\n",
       "PUBCHEM_CID                    4308\n",
       "NDFRT                          4260\n",
       "CHEBI                          3830\n",
       "MMSL                           3782\n",
       "INN_ID                         3589\n",
       "KEGG_DRUG                      3577\n",
       "NDDF                           3383\n",
       "RXNORM                         2991\n",
       "DRUGBANK_ID                    2929\n",
       "UMLSCUI                        2835\n",
       "MESH_SUPPLEMENTAL_RECORD_UI    2589\n",
       "VANDF                          2181\n",
       "NUI                            2044\n",
       "VUID                           1790\n",
       "SECONDARY_CAS_RN               1669\n",
       "MESH_DESCRIPTOR_UI             1591\n",
       "IUPHAR_LIGAND_ID               1395\n",
       "PDB_CHEM_ID                     727\n",
       "Name: id_type, dtype: int64"
      ]
     },
     "execution_count": 8,
     "metadata": {},
     "output_type": "execute_result"
    }
   ],
   "source": [
    "ids['id_type'].value_counts()"
   ]
  },
  {
   "cell_type": "markdown",
   "metadata": {},
   "source": [
    "## Disease Xrefs\n",
    "\n",
    "### Query WikiData for Disease X-refs"
   ]
  },
  {
   "cell_type": "code",
   "execution_count": 9,
   "metadata": {},
   "outputs": [],
   "source": [
    "import functools\n",
    "from wikidataintegrator.wdi_core import WDItemEngine\n",
    "from tqdm import tqdm\n",
    "\n",
    "endpoint='https://query.wikidata.org/sparql'\n",
    "\n",
    "def parse_result_uris(result):\n",
    "    for c in result:\n",
    "        if 'Label' not in c:\n",
    "            idx = result[c].dropna().str.startswith('http://www.wikidata.org/entity')\n",
    "            if idx.sum() != 0:\n",
    "                idx = idx[idx].index\n",
    "                result.loc[idx, c] = result.loc[idx, c].apply(lambda u: u.split('/')[-1])\n",
    "    return result.drop_duplicates()\n",
    "\n",
    "query_func = functools.partial(WDItemEngine.execute_sparql_query, endpoint=endpoint, as_dataframe=True)\n",
    "\n",
    "def execute_sparql_query(query_text):\n",
    "    # Enforce the proper column order\n",
    "    \n",
    "    \n",
    "    col_order = query_text.split('\\n')[1].split(' ?')[1:]\n",
    "    return parse_result_uris(query_func(query_text))[col_order]"
   ]
  },
  {
   "cell_type": "code",
   "execution_count": 10,
   "metadata": {},
   "outputs": [
    {
     "data": {
      "text/html": [
       "<div>\n",
       "<style scoped>\n",
       "    .dataframe tbody tr th:only-of-type {\n",
       "        vertical-align: middle;\n",
       "    }\n",
       "\n",
       "    .dataframe tbody tr th {\n",
       "        vertical-align: top;\n",
       "    }\n",
       "\n",
       "    .dataframe thead th {\n",
       "        text-align: right;\n",
       "    }\n",
       "</style>\n",
       "<table border=\"1\" class=\"dataframe\">\n",
       "  <thead>\n",
       "    <tr style=\"text-align: right;\">\n",
       "      <th></th>\n",
       "      <th>disease</th>\n",
       "      <th>diseaseLabel</th>\n",
       "      <th>umlscui</th>\n",
       "      <th>snomed_ct</th>\n",
       "    </tr>\n",
       "  </thead>\n",
       "  <tbody>\n",
       "    <tr>\n",
       "      <th>0</th>\n",
       "      <td>Q8282</td>\n",
       "      <td>Addison's disease</td>\n",
       "      <td>C0405580</td>\n",
       "      <td>NaN</td>\n",
       "    </tr>\n",
       "    <tr>\n",
       "      <th>1</th>\n",
       "      <td>Q1485</td>\n",
       "      <td>systemic lupus erythematosus</td>\n",
       "      <td>C0024141</td>\n",
       "      <td>NaN</td>\n",
       "    </tr>\n",
       "  </tbody>\n",
       "</table>\n",
       "</div>"
      ],
      "text/plain": [
       "  disease                  diseaseLabel   umlscui snomed_ct\n",
       "0   Q8282             Addison's disease  C0405580       NaN\n",
       "1   Q1485  systemic lupus erythematosus  C0024141       NaN"
      ]
     },
     "execution_count": 10,
     "metadata": {},
     "output_type": "execute_result"
    }
   ],
   "source": [
    "query = \"\"\"\n",
    "SELECT DISTINCT ?disease ?diseaseLabel ?umlscui ?snomed_ct\n",
    "WHERE {\n",
    "\n",
    "  # Initial typing for Disease\n",
    "  ?disease wdt:P279?/wdt:P31 wd:Q12136 .\n",
    "\n",
    "  OPTIONAL {?disease wdt:P2892 ?umlscui .}\n",
    "  OPTIONAL {?disease wdt:P5806 ?snomed_ct. }\n",
    "  SERVICE wikibase:label { bd:serviceParam wikibase:language \"[AUTO_LANGAGE],en\" }\n",
    "}\n",
    "\"\"\"\n",
    "\n",
    "disease_xrefs = execute_sparql_query(query)\n",
    "disease_xrefs.head(2)"
   ]
  },
  {
   "cell_type": "code",
   "execution_count": 11,
   "metadata": {},
   "outputs": [
    {
     "data": {
      "text/plain": [
       "23566"
      ]
     },
     "execution_count": 11,
     "metadata": {},
     "output_type": "execute_result"
    }
   ],
   "source": [
    "len(disease_xrefs)"
   ]
  },
  {
   "cell_type": "markdown",
   "metadata": {},
   "source": [
    "#### Remove those with no x-ref result"
   ]
  },
  {
   "cell_type": "code",
   "execution_count": 12,
   "metadata": {},
   "outputs": [
    {
     "data": {
      "text/plain": [
       "16725"
      ]
     },
     "execution_count": 12,
     "metadata": {},
     "output_type": "execute_result"
    }
   ],
   "source": [
    "disease_xrefs = disease_xrefs.dropna(subset=['umlscui', 'snomed_ct'], how='all').reset_index(drop=True)\n",
    "len(disease_xrefs)"
   ]
  },
  {
   "cell_type": "code",
   "execution_count": 13,
   "metadata": {},
   "outputs": [
    {
     "data": {
      "text/html": [
       "<div>\n",
       "<style scoped>\n",
       "    .dataframe tbody tr th:only-of-type {\n",
       "        vertical-align: middle;\n",
       "    }\n",
       "\n",
       "    .dataframe tbody tr th {\n",
       "        vertical-align: top;\n",
       "    }\n",
       "\n",
       "    .dataframe thead th {\n",
       "        text-align: right;\n",
       "    }\n",
       "</style>\n",
       "<table border=\"1\" class=\"dataframe\">\n",
       "  <thead>\n",
       "    <tr style=\"text-align: right;\">\n",
       "      <th></th>\n",
       "      <th>disease</th>\n",
       "      <th>diseaseLabel</th>\n",
       "      <th>umlscui</th>\n",
       "      <th>snomed_ct</th>\n",
       "    </tr>\n",
       "  </thead>\n",
       "  <tbody>\n",
       "    <tr>\n",
       "      <th>0</th>\n",
       "      <td>Q8282</td>\n",
       "      <td>Addison's disease</td>\n",
       "      <td>C0405580</td>\n",
       "      <td>NaN</td>\n",
       "    </tr>\n",
       "    <tr>\n",
       "      <th>1</th>\n",
       "      <td>Q1485</td>\n",
       "      <td>systemic lupus erythematosus</td>\n",
       "      <td>C0024141</td>\n",
       "      <td>NaN</td>\n",
       "    </tr>\n",
       "  </tbody>\n",
       "</table>\n",
       "</div>"
      ],
      "text/plain": [
       "  disease                  diseaseLabel   umlscui snomed_ct\n",
       "0   Q8282             Addison's disease  C0405580       NaN\n",
       "1   Q1485  systemic lupus erythematosus  C0024141       NaN"
      ]
     },
     "execution_count": 13,
     "metadata": {},
     "output_type": "execute_result"
    }
   ],
   "source": [
    "disease_xrefs.head(2)"
   ]
  },
  {
   "cell_type": "markdown",
   "metadata": {},
   "source": [
    "## Compound X-refs\n",
    "\n",
    "### Start with DrugCentral's own x-refs"
   ]
  },
  {
   "cell_type": "code",
   "execution_count": 14,
   "metadata": {},
   "outputs": [
    {
     "data": {
      "text/html": [
       "<div>\n",
       "<style scoped>\n",
       "    .dataframe tbody tr th:only-of-type {\n",
       "        vertical-align: middle;\n",
       "    }\n",
       "\n",
       "    .dataframe tbody tr th {\n",
       "        vertical-align: top;\n",
       "    }\n",
       "\n",
       "    .dataframe thead th {\n",
       "        text-align: right;\n",
       "    }\n",
       "</style>\n",
       "<table border=\"1\" class=\"dataframe\">\n",
       "  <thead>\n",
       "    <tr style=\"text-align: right;\">\n",
       "      <th></th>\n",
       "      <th>id</th>\n",
       "      <th>identifier</th>\n",
       "      <th>id_type</th>\n",
       "      <th>struct_id</th>\n",
       "      <th>parent_match</th>\n",
       "    </tr>\n",
       "  </thead>\n",
       "  <tbody>\n",
       "    <tr>\n",
       "      <th>0</th>\n",
       "      <td>1214712</td>\n",
       "      <td>D11040</td>\n",
       "      <td>KEGG_DRUG</td>\n",
       "      <td>5278</td>\n",
       "      <td>NaN</td>\n",
       "    </tr>\n",
       "    <tr>\n",
       "      <th>1</th>\n",
       "      <td>1214713</td>\n",
       "      <td>9745</td>\n",
       "      <td>IUPHAR_LIGAND_ID</td>\n",
       "      <td>5271</td>\n",
       "      <td>NaN</td>\n",
       "    </tr>\n",
       "  </tbody>\n",
       "</table>\n",
       "</div>"
      ],
      "text/plain": [
       "        id identifier           id_type  struct_id parent_match\n",
       "0  1214712     D11040         KEGG_DRUG       5278          NaN\n",
       "1  1214713       9745  IUPHAR_LIGAND_ID       5271          NaN"
      ]
     },
     "execution_count": 14,
     "metadata": {},
     "output_type": "execute_result"
    }
   ],
   "source": [
    "ids.head(2)"
   ]
  },
  {
   "cell_type": "code",
   "execution_count": 15,
   "metadata": {},
   "outputs": [
    {
     "data": {
      "text/plain": [
       "array(['KEGG_DRUG', 'IUPHAR_LIGAND_ID', 'CHEBI', 'DRUGBANK_ID', 'VUID',\n",
       "       'NUI', 'UMLSCUI', 'ChEMBL_ID', 'UNII', 'INN_ID',\n",
       "       'SECONDARY_CAS_RN', 'PUBCHEM_CID', 'RXNORM', 'NDDF', 'MMSL',\n",
       "       'VANDF', 'NDFRT', 'SNOMEDCT_US', 'MESH_SUPPLEMENTAL_RECORD_UI',\n",
       "       'MESH_DESCRIPTOR_UI', 'PDB_CHEM_ID'], dtype=object)"
      ]
     },
     "execution_count": 15,
     "metadata": {},
     "output_type": "execute_result"
    }
   ],
   "source": [
    "ids['id_type'].unique()"
   ]
  },
  {
   "cell_type": "code",
   "execution_count": 16,
   "metadata": {},
   "outputs": [],
   "source": [
    "keep_ids = ['KEGG_DRUG', 'KEGG_DRUG', 'IUPHAR_LIGAND_ID', 'CHEBI', 'DRUGBANK_ID', \n",
    "        'UMLSCUI', 'ChEMBL_ID', 'UNII', 'INN_ID',\n",
    "       'PUBCHEM_CID', 'RXNORM', 'NDFRT', 'MESH_SUPPLEMENTAL_RECORD_UI',\n",
    "       'MESH_DESCRIPTOR_UI', 'PDB_CHEM_ID']"
   ]
  },
  {
   "cell_type": "code",
   "execution_count": 17,
   "metadata": {},
   "outputs": [
    {
     "data": {
      "text/html": [
       "<div>\n",
       "<style scoped>\n",
       "    .dataframe tbody tr th:only-of-type {\n",
       "        vertical-align: middle;\n",
       "    }\n",
       "\n",
       "    .dataframe tbody tr th {\n",
       "        vertical-align: top;\n",
       "    }\n",
       "\n",
       "    .dataframe thead th {\n",
       "        text-align: right;\n",
       "    }\n",
       "</style>\n",
       "<table border=\"1\" class=\"dataframe\">\n",
       "  <thead>\n",
       "    <tr style=\"text-align: right;\">\n",
       "      <th></th>\n",
       "      <th>id</th>\n",
       "      <th>identifier</th>\n",
       "      <th>id_type</th>\n",
       "      <th>struct_id</th>\n",
       "      <th>parent_match</th>\n",
       "    </tr>\n",
       "  </thead>\n",
       "  <tbody>\n",
       "    <tr>\n",
       "      <th>0</th>\n",
       "      <td>1214712</td>\n",
       "      <td>D11040</td>\n",
       "      <td>KEGG_DRUG</td>\n",
       "      <td>5278</td>\n",
       "      <td>NaN</td>\n",
       "    </tr>\n",
       "    <tr>\n",
       "      <th>1</th>\n",
       "      <td>1214713</td>\n",
       "      <td>9745</td>\n",
       "      <td>IUPHAR_LIGAND_ID</td>\n",
       "      <td>5271</td>\n",
       "      <td>NaN</td>\n",
       "    </tr>\n",
       "  </tbody>\n",
       "</table>\n",
       "</div>"
      ],
      "text/plain": [
       "        id identifier           id_type  struct_id parent_match\n",
       "0  1214712     D11040         KEGG_DRUG       5278          NaN\n",
       "1  1214713       9745  IUPHAR_LIGAND_ID       5271          NaN"
      ]
     },
     "execution_count": 17,
     "metadata": {},
     "output_type": "execute_result"
    }
   ],
   "source": [
    "ids.head(2)"
   ]
  },
  {
   "cell_type": "code",
   "execution_count": 18,
   "metadata": {},
   "outputs": [],
   "source": [
    "dc_xrefs = (ids.query('id_type in @keep_ids')\n",
    "               .drop_duplicates(subset=['struct_id', 'id_type'])\n",
    "               .pivot(values='identifier', index='struct_id', columns='id_type'))"
   ]
  },
  {
   "cell_type": "code",
   "execution_count": 19,
   "metadata": {},
   "outputs": [
    {
     "data": {
      "text/html": [
       "<div>\n",
       "<style scoped>\n",
       "    .dataframe tbody tr th:only-of-type {\n",
       "        vertical-align: middle;\n",
       "    }\n",
       "\n",
       "    .dataframe tbody tr th {\n",
       "        vertical-align: top;\n",
       "    }\n",
       "\n",
       "    .dataframe thead th {\n",
       "        text-align: right;\n",
       "    }\n",
       "</style>\n",
       "<table border=\"1\" class=\"dataframe\">\n",
       "  <thead>\n",
       "    <tr style=\"text-align: right;\">\n",
       "      <th>id_type</th>\n",
       "      <th>CHEBI</th>\n",
       "      <th>ChEMBL_ID</th>\n",
       "      <th>DRUGBANK_ID</th>\n",
       "      <th>INN_ID</th>\n",
       "      <th>IUPHAR_LIGAND_ID</th>\n",
       "      <th>KEGG_DRUG</th>\n",
       "      <th>MESH_DESCRIPTOR_UI</th>\n",
       "      <th>MESH_SUPPLEMENTAL_RECORD_UI</th>\n",
       "      <th>NDFRT</th>\n",
       "      <th>PDB_CHEM_ID</th>\n",
       "      <th>PUBCHEM_CID</th>\n",
       "      <th>RXNORM</th>\n",
       "      <th>UMLSCUI</th>\n",
       "      <th>UNII</th>\n",
       "    </tr>\n",
       "    <tr>\n",
       "      <th>struct_id</th>\n",
       "      <th></th>\n",
       "      <th></th>\n",
       "      <th></th>\n",
       "      <th></th>\n",
       "      <th></th>\n",
       "      <th></th>\n",
       "      <th></th>\n",
       "      <th></th>\n",
       "      <th></th>\n",
       "      <th></th>\n",
       "      <th></th>\n",
       "      <th></th>\n",
       "      <th></th>\n",
       "      <th></th>\n",
       "    </tr>\n",
       "  </thead>\n",
       "  <tbody>\n",
       "    <tr>\n",
       "      <th>4</th>\n",
       "      <td>CHEBI:6149</td>\n",
       "      <td>CHEMBL1200749</td>\n",
       "      <td>DB01002</td>\n",
       "      <td>7465</td>\n",
       "      <td>7211</td>\n",
       "      <td>D01287</td>\n",
       "      <td>NaN</td>\n",
       "      <td>C476513</td>\n",
       "      <td>N0000148724</td>\n",
       "      <td>NaN</td>\n",
       "      <td>92253</td>\n",
       "      <td>259453</td>\n",
       "      <td>C0873118</td>\n",
       "      <td>A5H73K9U3W</td>\n",
       "    </tr>\n",
       "    <tr>\n",
       "      <th>5</th>\n",
       "      <td>CHEBI:135777</td>\n",
       "      <td>NaN</td>\n",
       "      <td>NaN</td>\n",
       "      <td>NaN</td>\n",
       "      <td>NaN</td>\n",
       "      <td>NaN</td>\n",
       "      <td>NaN</td>\n",
       "      <td>NaN</td>\n",
       "      <td>NaN</td>\n",
       "      <td>NaN</td>\n",
       "      <td>6604415</td>\n",
       "      <td>NaN</td>\n",
       "      <td>NaN</td>\n",
       "      <td>NaN</td>\n",
       "    </tr>\n",
       "  </tbody>\n",
       "</table>\n",
       "</div>"
      ],
      "text/plain": [
       "id_type           CHEBI      ChEMBL_ID DRUGBANK_ID INN_ID IUPHAR_LIGAND_ID  \\\n",
       "struct_id                                                                    \n",
       "4            CHEBI:6149  CHEMBL1200749     DB01002   7465             7211   \n",
       "5          CHEBI:135777            NaN         NaN    NaN              NaN   \n",
       "\n",
       "id_type   KEGG_DRUG MESH_DESCRIPTOR_UI MESH_SUPPLEMENTAL_RECORD_UI  \\\n",
       "struct_id                                                            \n",
       "4            D01287                NaN                     C476513   \n",
       "5               NaN                NaN                         NaN   \n",
       "\n",
       "id_type          NDFRT PDB_CHEM_ID PUBCHEM_CID  RXNORM   UMLSCUI        UNII  \n",
       "struct_id                                                                     \n",
       "4          N0000148724         NaN       92253  259453  C0873118  A5H73K9U3W  \n",
       "5                  NaN         NaN     6604415     NaN       NaN         NaN  "
      ]
     },
     "execution_count": 19,
     "metadata": {},
     "output_type": "execute_result"
    }
   ],
   "source": [
    "dc_xrefs.head(2)"
   ]
  },
  {
   "cell_type": "markdown",
   "metadata": {},
   "source": [
    "### Now Query WikiData using the x-refs avalible to both soruces"
   ]
  },
  {
   "cell_type": "code",
   "execution_count": 20,
   "metadata": {},
   "outputs": [],
   "source": [
    "id_to_wiki = {'KEGG_DRUG': 'P665', \n",
    "     'IUPHAR_LIGAND_ID': 'P595',\n",
    "     'CHEBI': 'P683', \n",
    "     'DRUGBANK_ID': 'P715', \n",
    "     'UMLSCUI': 'P2892', \n",
    "     'ChEMBL_ID': 'P592', \n",
    "     'UNII': 'P652', \n",
    "     'INN_ID': 'P3350',\n",
    "     'PUBCHEM_CID': 'P662', \n",
    "     'RXNORM': 'P3345', \n",
    "     'NDFRT': 'P2115', \n",
    "     'MESH_SUPPLEMENTAL_RECORD_UI': 'P6680',\n",
    "     'MESH_DESCRIPTOR_UI': 'P486', \n",
    "     'PDB_CHEM_ID': 'P3636'}"
   ]
  },
  {
   "cell_type": "code",
   "execution_count": 21,
   "metadata": {},
   "outputs": [],
   "source": [
    "base_query = \"\"\"\n",
    "SELECT DISTINCT ?compound ?compoundLabel {0}\n",
    "WHERE {{\n",
    "\n",
    "  # Initial typing for Compound\n",
    "  ?compound wdt:P31 wd:Q11173 .\n",
    "\n",
    "{1}\n",
    "\n",
    "  SERVICE wikibase:label {{ bd:serviceParam wikibase:language \"[AUTO_LANGAGE],en\" }}\n",
    "}}\n",
    "\"\"\""
   ]
  },
  {
   "cell_type": "code",
   "execution_count": 22,
   "metadata": {},
   "outputs": [],
   "source": [
    "line_temp = \"  OPTIONAL {{ ?compound wdt:{val} {key} .}}\"\n",
    "full_query = base_query.format(' '.join(['?'+k.lower() for k in id_to_wiki.keys()]), \n",
    "                               '\\n'.join([line_temp.format(val=v, key='?'+k.lower()) for k, v in id_to_wiki.items()]))"
   ]
  },
  {
   "cell_type": "code",
   "execution_count": 23,
   "metadata": {},
   "outputs": [
    {
     "name": "stdout",
     "output_type": "stream",
     "text": [
      "\n",
      "SELECT DISTINCT ?compound ?compoundLabel ?kegg_drug ?iuphar_ligand_id ?chebi ?drugbank_id ?umlscui ?chembl_id ?unii ?inn_id ?pubchem_cid ?rxnorm ?ndfrt ?mesh_supplemental_record_ui ?mesh_descriptor_ui ?pdb_chem_id\n",
      "WHERE {\n",
      "\n",
      "  # Initial typing for Compound\n",
      "  ?compound wdt:P31 wd:Q11173 .\n",
      "\n",
      "  OPTIONAL { ?compound wdt:P665 ?kegg_drug .}\n",
      "  OPTIONAL { ?compound wdt:P595 ?iuphar_ligand_id .}\n",
      "  OPTIONAL { ?compound wdt:P683 ?chebi .}\n",
      "  OPTIONAL { ?compound wdt:P715 ?drugbank_id .}\n",
      "  OPTIONAL { ?compound wdt:P2892 ?umlscui .}\n",
      "  OPTIONAL { ?compound wdt:P592 ?chembl_id .}\n",
      "  OPTIONAL { ?compound wdt:P652 ?unii .}\n",
      "  OPTIONAL { ?compound wdt:P3350 ?inn_id .}\n",
      "  OPTIONAL { ?compound wdt:P662 ?pubchem_cid .}\n",
      "  OPTIONAL { ?compound wdt:P3345 ?rxnorm .}\n",
      "  OPTIONAL { ?compound wdt:P2115 ?ndfrt .}\n",
      "  OPTIONAL { ?compound wdt:P6680 ?mesh_supplemental_record_ui .}\n",
      "  OPTIONAL { ?compound wdt:P486 ?mesh_descriptor_ui .}\n",
      "  OPTIONAL { ?compound wdt:P3636 ?pdb_chem_id .}\n",
      "\n",
      "  SERVICE wikibase:label { bd:serviceParam wikibase:language \"[AUTO_LANGAGE],en\" }\n",
      "}\n",
      "\n"
     ]
    }
   ],
   "source": [
    "print(full_query)"
   ]
  },
  {
   "cell_type": "code",
   "execution_count": 24,
   "metadata": {},
   "outputs": [
    {
     "data": {
      "text/html": [
       "<div>\n",
       "<style scoped>\n",
       "    .dataframe tbody tr th:only-of-type {\n",
       "        vertical-align: middle;\n",
       "    }\n",
       "\n",
       "    .dataframe tbody tr th {\n",
       "        vertical-align: top;\n",
       "    }\n",
       "\n",
       "    .dataframe thead th {\n",
       "        text-align: right;\n",
       "    }\n",
       "</style>\n",
       "<table border=\"1\" class=\"dataframe\">\n",
       "  <thead>\n",
       "    <tr style=\"text-align: right;\">\n",
       "      <th></th>\n",
       "      <th>compound</th>\n",
       "      <th>compoundLabel</th>\n",
       "      <th>kegg_drug</th>\n",
       "      <th>iuphar_ligand_id</th>\n",
       "      <th>chebi</th>\n",
       "      <th>drugbank_id</th>\n",
       "      <th>umlscui</th>\n",
       "      <th>chembl_id</th>\n",
       "      <th>unii</th>\n",
       "      <th>inn_id</th>\n",
       "      <th>pubchem_cid</th>\n",
       "      <th>rxnorm</th>\n",
       "      <th>ndfrt</th>\n",
       "      <th>mesh_supplemental_record_ui</th>\n",
       "      <th>mesh_descriptor_ui</th>\n",
       "      <th>pdb_chem_id</th>\n",
       "    </tr>\n",
       "  </thead>\n",
       "  <tbody>\n",
       "    <tr>\n",
       "      <th>0</th>\n",
       "      <td>Q43177</td>\n",
       "      <td>chlorophyll</td>\n",
       "      <td>C01793</td>\n",
       "      <td>NaN</td>\n",
       "      <td>28966</td>\n",
       "      <td>NaN</td>\n",
       "      <td>NaN</td>\n",
       "      <td>NaN</td>\n",
       "      <td>00WNZ48OR9</td>\n",
       "      <td>NaN</td>\n",
       "      <td>5748352</td>\n",
       "      <td>2388</td>\n",
       "      <td>N0000147223</td>\n",
       "      <td>NaN</td>\n",
       "      <td>D002734</td>\n",
       "      <td>NaN</td>\n",
       "    </tr>\n",
       "    <tr>\n",
       "      <th>1</th>\n",
       "      <td>Q139195</td>\n",
       "      <td>calcitriol</td>\n",
       "      <td>D00129</td>\n",
       "      <td>2779</td>\n",
       "      <td>46435</td>\n",
       "      <td>00136</td>\n",
       "      <td>C0006674</td>\n",
       "      <td>CHEMBL846</td>\n",
       "      <td>FXC9231JVH</td>\n",
       "      <td>NaN</td>\n",
       "      <td>5280453</td>\n",
       "      <td>1894</td>\n",
       "      <td>N0000146161</td>\n",
       "      <td>NaN</td>\n",
       "      <td>D002117</td>\n",
       "      <td>VDX</td>\n",
       "    </tr>\n",
       "  </tbody>\n",
       "</table>\n",
       "</div>"
      ],
      "text/plain": [
       "  compound compoundLabel kegg_drug iuphar_ligand_id  chebi drugbank_id  \\\n",
       "0   Q43177   chlorophyll    C01793              NaN  28966         NaN   \n",
       "1  Q139195    calcitriol    D00129             2779  46435       00136   \n",
       "\n",
       "    umlscui  chembl_id        unii inn_id pubchem_cid rxnorm        ndfrt  \\\n",
       "0       NaN        NaN  00WNZ48OR9    NaN     5748352   2388  N0000147223   \n",
       "1  C0006674  CHEMBL846  FXC9231JVH    NaN     5280453   1894  N0000146161   \n",
       "\n",
       "  mesh_supplemental_record_ui mesh_descriptor_ui pdb_chem_id  \n",
       "0                         NaN            D002734         NaN  \n",
       "1                         NaN            D002117         VDX  "
      ]
     },
     "execution_count": 24,
     "metadata": {},
     "output_type": "execute_result"
    }
   ],
   "source": [
    "compound_xrefs = execute_sparql_query(full_query)\n",
    "compound_xrefs.head(2)"
   ]
  },
  {
   "cell_type": "code",
   "execution_count": 25,
   "metadata": {},
   "outputs": [
    {
     "data": {
      "text/plain": [
       "167269"
      ]
     },
     "execution_count": 25,
     "metadata": {},
     "output_type": "execute_result"
    }
   ],
   "source": [
    "len(compound_xrefs)"
   ]
  },
  {
   "cell_type": "markdown",
   "metadata": {},
   "source": [
    "#### Remove those with no result"
   ]
  },
  {
   "cell_type": "code",
   "execution_count": 26,
   "metadata": {},
   "outputs": [
    {
     "data": {
      "text/plain": [
       "161019"
      ]
     },
     "execution_count": 26,
     "metadata": {},
     "output_type": "execute_result"
    }
   ],
   "source": [
    "to_drop = [c for c in compound_xrefs][2:]\n",
    "\n",
    "compound_xrefs = compound_xrefs.dropna(subset=to_drop, how='all')\n",
    "len(compound_xrefs)"
   ]
  },
  {
   "cell_type": "code",
   "execution_count": 27,
   "metadata": {
    "scrolled": true
   },
   "outputs": [
    {
     "data": {
      "text/plain": [
       "157585"
      ]
     },
     "execution_count": 27,
     "metadata": {},
     "output_type": "execute_result"
    }
   ],
   "source": [
    "compound_xrefs['compound'].nunique()"
   ]
  },
  {
   "cell_type": "code",
   "execution_count": 28,
   "metadata": {},
   "outputs": [],
   "source": [
    "chem_xref_order = [\n",
    "    'unii', \n",
    "    'rxnorm', \n",
    "    'drugbank_id', \n",
    "    'umlscui', \n",
    "    'chebi', \n",
    "    'kegg_drug', \n",
    "    'iuphar_ligand_id', \n",
    "    'chembl_id', \n",
    "    'inn_id', \n",
    "    'pubchem_cid', \n",
    "    'ndfrt', \n",
    "    'pdb_chem_id',\n",
    "    'mesh_supplemental_record_ui', \n",
    "    'mesh_descriptor_ui']"
   ]
  },
  {
   "cell_type": "code",
   "execution_count": 29,
   "metadata": {},
   "outputs": [],
   "source": [
    "dc_xrefs = dc_xrefs.reset_index()\n",
    "dc_xrefs.columns = dc_xrefs.columns.str.lower()"
   ]
  },
  {
   "cell_type": "markdown",
   "metadata": {},
   "source": [
    "#### Build a Final set of x-refs for the compounds"
   ]
  },
  {
   "cell_type": "code",
   "execution_count": 30,
   "metadata": {},
   "outputs": [],
   "source": [
    "final_chem_xrefs = []\n",
    "remaining_chems = set(dc_xrefs['struct_id'])\n",
    "\n",
    "for x in chem_xref_order:\n",
    "    this_dc = dc_xrefs.query('struct_id in @remaining_chems').dropna(subset=[x])\n",
    "    this_wd = compound_xrefs.dropna(subset=[x])\n",
    "    \n",
    "    this_xref = pd.merge(this_dc, this_wd, how='inner', on=x, suffixes=('_dc', '_wd'))\n",
    "    final_chem_xrefs.append(this_xref)\n",
    "    \n",
    "    remaining_chems = remaining_chems - set(this_xref['struct_id'])"
   ]
  },
  {
   "cell_type": "code",
   "execution_count": 31,
   "metadata": {},
   "outputs": [
    {
     "data": {
      "text/html": [
       "<div>\n",
       "<style scoped>\n",
       "    .dataframe tbody tr th:only-of-type {\n",
       "        vertical-align: middle;\n",
       "    }\n",
       "\n",
       "    .dataframe tbody tr th {\n",
       "        vertical-align: top;\n",
       "    }\n",
       "\n",
       "    .dataframe thead th {\n",
       "        text-align: right;\n",
       "    }\n",
       "</style>\n",
       "<table border=\"1\" class=\"dataframe\">\n",
       "  <thead>\n",
       "    <tr style=\"text-align: right;\">\n",
       "      <th></th>\n",
       "      <th>struct_id</th>\n",
       "      <th>chebi_dc</th>\n",
       "      <th>chembl_id_dc</th>\n",
       "      <th>drugbank_id_dc</th>\n",
       "      <th>inn_id_dc</th>\n",
       "      <th>iuphar_ligand_id_dc</th>\n",
       "      <th>kegg_drug_dc</th>\n",
       "      <th>mesh_descriptor_ui_dc</th>\n",
       "      <th>mesh_supplemental_record_ui_dc</th>\n",
       "      <th>ndfrt_dc</th>\n",
       "      <th>...</th>\n",
       "      <th>chebi</th>\n",
       "      <th>kegg_drug</th>\n",
       "      <th>iuphar_ligand_id</th>\n",
       "      <th>chembl_id</th>\n",
       "      <th>inn_id</th>\n",
       "      <th>pubchem_cid</th>\n",
       "      <th>ndfrt</th>\n",
       "      <th>pdb_chem_id</th>\n",
       "      <th>mesh_supplemental_record_ui</th>\n",
       "      <th>mesh_descriptor_ui</th>\n",
       "    </tr>\n",
       "  </thead>\n",
       "  <tbody>\n",
       "    <tr>\n",
       "      <th>0</th>\n",
       "      <td>4</td>\n",
       "      <td>CHEBI:6149</td>\n",
       "      <td>CHEMBL1200749</td>\n",
       "      <td>DB01002</td>\n",
       "      <td>7465</td>\n",
       "      <td>7211</td>\n",
       "      <td>D01287</td>\n",
       "      <td>NaN</td>\n",
       "      <td>C476513</td>\n",
       "      <td>N0000148724</td>\n",
       "      <td>...</td>\n",
       "      <td>NaN</td>\n",
       "      <td>NaN</td>\n",
       "      <td>NaN</td>\n",
       "      <td>NaN</td>\n",
       "      <td>NaN</td>\n",
       "      <td>NaN</td>\n",
       "      <td>NaN</td>\n",
       "      <td>NaN</td>\n",
       "      <td>NaN</td>\n",
       "      <td>NaN</td>\n",
       "    </tr>\n",
       "    <tr>\n",
       "      <th>1</th>\n",
       "      <td>4</td>\n",
       "      <td>CHEBI:6149</td>\n",
       "      <td>CHEMBL1200749</td>\n",
       "      <td>DB01002</td>\n",
       "      <td>7465</td>\n",
       "      <td>7211</td>\n",
       "      <td>D01287</td>\n",
       "      <td>NaN</td>\n",
       "      <td>C476513</td>\n",
       "      <td>N0000148724</td>\n",
       "      <td>...</td>\n",
       "      <td>NaN</td>\n",
       "      <td>NaN</td>\n",
       "      <td>NaN</td>\n",
       "      <td>NaN</td>\n",
       "      <td>NaN</td>\n",
       "      <td>NaN</td>\n",
       "      <td>NaN</td>\n",
       "      <td>NaN</td>\n",
       "      <td>NaN</td>\n",
       "      <td>NaN</td>\n",
       "    </tr>\n",
       "  </tbody>\n",
       "</table>\n",
       "<p>2 rows × 45 columns</p>\n",
       "</div>"
      ],
      "text/plain": [
       "   struct_id    chebi_dc   chembl_id_dc drugbank_id_dc inn_id_dc  \\\n",
       "0          4  CHEBI:6149  CHEMBL1200749        DB01002      7465   \n",
       "1          4  CHEBI:6149  CHEMBL1200749        DB01002      7465   \n",
       "\n",
       "  iuphar_ligand_id_dc kegg_drug_dc mesh_descriptor_ui_dc  \\\n",
       "0                7211       D01287                   NaN   \n",
       "1                7211       D01287                   NaN   \n",
       "\n",
       "  mesh_supplemental_record_ui_dc     ndfrt_dc        ...         chebi  \\\n",
       "0                        C476513  N0000148724        ...           NaN   \n",
       "1                        C476513  N0000148724        ...           NaN   \n",
       "\n",
       "  kegg_drug iuphar_ligand_id chembl_id inn_id pubchem_cid ndfrt pdb_chem_id  \\\n",
       "0       NaN              NaN       NaN    NaN         NaN   NaN         NaN   \n",
       "1       NaN              NaN       NaN    NaN         NaN   NaN         NaN   \n",
       "\n",
       "  mesh_supplemental_record_ui mesh_descriptor_ui  \n",
       "0                         NaN                NaN  \n",
       "1                         NaN                NaN  \n",
       "\n",
       "[2 rows x 45 columns]"
      ]
     },
     "execution_count": 31,
     "metadata": {},
     "output_type": "execute_result"
    }
   ],
   "source": [
    "final_chem_xrefs = pd.concat(final_chem_xrefs, sort=False, ignore_index=True)\n",
    "final_chem_xrefs.head(2)"
   ]
  },
  {
   "cell_type": "markdown",
   "metadata": {},
   "source": [
    "#### Build a map from DrugCentral internal Structure_id to WikiData identifier"
   ]
  },
  {
   "cell_type": "code",
   "execution_count": 32,
   "metadata": {},
   "outputs": [],
   "source": [
    "struct_to_wd = final_chem_xrefs.groupby('struct_id')['compound'].apply(lambda s: ';'.join(set(s))).to_dict()"
   ]
  },
  {
   "cell_type": "code",
   "execution_count": 33,
   "metadata": {},
   "outputs": [
    {
     "data": {
      "text/html": [
       "<div>\n",
       "<style scoped>\n",
       "    .dataframe tbody tr th:only-of-type {\n",
       "        vertical-align: middle;\n",
       "    }\n",
       "\n",
       "    .dataframe tbody tr th {\n",
       "        vertical-align: top;\n",
       "    }\n",
       "\n",
       "    .dataframe thead th {\n",
       "        text-align: right;\n",
       "    }\n",
       "</style>\n",
       "<table border=\"1\" class=\"dataframe\">\n",
       "  <thead>\n",
       "    <tr style=\"text-align: right;\">\n",
       "      <th></th>\n",
       "      <th>disease</th>\n",
       "      <th>diseaseLabel</th>\n",
       "      <th>umlscui</th>\n",
       "      <th>snomed_ct</th>\n",
       "    </tr>\n",
       "  </thead>\n",
       "  <tbody>\n",
       "    <tr>\n",
       "      <th>0</th>\n",
       "      <td>Q8282</td>\n",
       "      <td>Addison's disease</td>\n",
       "      <td>C0405580</td>\n",
       "      <td>NaN</td>\n",
       "    </tr>\n",
       "    <tr>\n",
       "      <th>1</th>\n",
       "      <td>Q1485</td>\n",
       "      <td>systemic lupus erythematosus</td>\n",
       "      <td>C0024141</td>\n",
       "      <td>NaN</td>\n",
       "    </tr>\n",
       "  </tbody>\n",
       "</table>\n",
       "</div>"
      ],
      "text/plain": [
       "  disease                  diseaseLabel   umlscui snomed_ct\n",
       "0   Q8282             Addison's disease  C0405580       NaN\n",
       "1   Q1485  systemic lupus erythematosus  C0024141       NaN"
      ]
     },
     "execution_count": 33,
     "metadata": {},
     "output_type": "execute_result"
    }
   ],
   "source": [
    "disease_xrefs.head(2)"
   ]
  },
  {
   "cell_type": "markdown",
   "metadata": {},
   "source": [
    "#### Build maps from UMLS and SNOMED to WikiData\n",
    "\n",
    "Since Diseases have UMLS and Snomed IDs, we will build maps for both, and preferentially use the UMLS mappings"
   ]
  },
  {
   "cell_type": "code",
   "execution_count": 34,
   "metadata": {},
   "outputs": [],
   "source": [
    "umls_to_wd = disease_xrefs.dropna(subset=['umlscui']).set_index('umlscui')['disease'].to_dict()\n",
    "snomed_to_wd = disease_xrefs.dropna(subset=['snomed_ct']).set_index('snomed_ct')['disease'].to_dict()"
   ]
  },
  {
   "cell_type": "code",
   "execution_count": 35,
   "metadata": {},
   "outputs": [
    {
     "data": {
      "text/html": [
       "<div>\n",
       "<style scoped>\n",
       "    .dataframe tbody tr th:only-of-type {\n",
       "        vertical-align: middle;\n",
       "    }\n",
       "\n",
       "    .dataframe tbody tr th {\n",
       "        vertical-align: top;\n",
       "    }\n",
       "\n",
       "    .dataframe thead th {\n",
       "        text-align: right;\n",
       "    }\n",
       "</style>\n",
       "<table border=\"1\" class=\"dataframe\">\n",
       "  <thead>\n",
       "    <tr style=\"text-align: right;\">\n",
       "      <th></th>\n",
       "      <th>id</th>\n",
       "      <th>struct_id</th>\n",
       "      <th>concept_id</th>\n",
       "      <th>relationship_name</th>\n",
       "      <th>concept_name</th>\n",
       "      <th>umls_cui</th>\n",
       "      <th>snomed_full_name</th>\n",
       "      <th>cui_semantic_type</th>\n",
       "      <th>snomed_conceptid</th>\n",
       "    </tr>\n",
       "  </thead>\n",
       "  <tbody>\n",
       "    <tr>\n",
       "      <th>0</th>\n",
       "      <td>173432</td>\n",
       "      <td>965</td>\n",
       "      <td>40249340</td>\n",
       "      <td>indication</td>\n",
       "      <td>Malignant tumor of breast</td>\n",
       "      <td>C0006142</td>\n",
       "      <td>Malignant tumor of breast</td>\n",
       "      <td>T191</td>\n",
       "      <td>254837009.0</td>\n",
       "    </tr>\n",
       "    <tr>\n",
       "      <th>1</th>\n",
       "      <td>173433</td>\n",
       "      <td>318</td>\n",
       "      <td>21000716</td>\n",
       "      <td>indication</td>\n",
       "      <td>Gout</td>\n",
       "      <td>C0018099</td>\n",
       "      <td>Gout</td>\n",
       "      <td>T047</td>\n",
       "      <td>90560007.0</td>\n",
       "    </tr>\n",
       "  </tbody>\n",
       "</table>\n",
       "</div>"
      ],
      "text/plain": [
       "       id  struct_id  concept_id relationship_name               concept_name  \\\n",
       "0  173432        965    40249340        indication  Malignant tumor of breast   \n",
       "1  173433        318    21000716        indication                       Gout   \n",
       "\n",
       "   umls_cui           snomed_full_name cui_semantic_type  snomed_conceptid  \n",
       "0  C0006142  Malignant tumor of breast              T191       254837009.0  \n",
       "1  C0018099                       Gout              T047        90560007.0  "
      ]
     },
     "execution_count": 35,
     "metadata": {},
     "output_type": "execute_result"
    }
   ],
   "source": [
    "rel.head(2)"
   ]
  },
  {
   "cell_type": "code",
   "execution_count": 36,
   "metadata": {},
   "outputs": [],
   "source": [
    "inds = rel.query('relationship_name == \"indication\"').copy()"
   ]
  },
  {
   "cell_type": "code",
   "execution_count": 37,
   "metadata": {},
   "outputs": [],
   "source": [
    "inds['comp_wd_id'] = inds['struct_id'].map(struct_to_wd)"
   ]
  },
  {
   "cell_type": "code",
   "execution_count": 38,
   "metadata": {},
   "outputs": [],
   "source": [
    "# Use UMLS first, then fill missing with SNOMED mappings\n",
    "inds['dis_wd_id'] = inds['umls_cui'].map(umls_to_wd).fillna(inds['snomed_conceptid'].map(snomed_to_wd))"
   ]
  },
  {
   "cell_type": "code",
   "execution_count": 39,
   "metadata": {},
   "outputs": [
    {
     "data": {
      "text/plain": [
       "4553"
      ]
     },
     "execution_count": 39,
     "metadata": {},
     "output_type": "execute_result"
    }
   ],
   "source": [
    "len(inds.dropna(subset=['comp_wd_id', 'dis_wd_id']))"
   ]
  },
  {
   "cell_type": "code",
   "execution_count": 40,
   "metadata": {},
   "outputs": [
    {
     "data": {
      "text/html": [
       "<div>\n",
       "<style scoped>\n",
       "    .dataframe tbody tr th:only-of-type {\n",
       "        vertical-align: middle;\n",
       "    }\n",
       "\n",
       "    .dataframe tbody tr th {\n",
       "        vertical-align: top;\n",
       "    }\n",
       "\n",
       "    .dataframe thead th {\n",
       "        text-align: right;\n",
       "    }\n",
       "</style>\n",
       "<table border=\"1\" class=\"dataframe\">\n",
       "  <thead>\n",
       "    <tr style=\"text-align: right;\">\n",
       "      <th></th>\n",
       "      <th>id</th>\n",
       "      <th>struct_id</th>\n",
       "      <th>concept_id</th>\n",
       "      <th>relationship_name</th>\n",
       "      <th>concept_name</th>\n",
       "      <th>umls_cui</th>\n",
       "      <th>snomed_full_name</th>\n",
       "      <th>cui_semantic_type</th>\n",
       "      <th>snomed_conceptid</th>\n",
       "      <th>comp_wd_id</th>\n",
       "      <th>dis_wd_id</th>\n",
       "    </tr>\n",
       "  </thead>\n",
       "  <tbody>\n",
       "    <tr>\n",
       "      <th>0</th>\n",
       "      <td>173432</td>\n",
       "      <td>965</td>\n",
       "      <td>40249340</td>\n",
       "      <td>indication</td>\n",
       "      <td>Malignant tumor of breast</td>\n",
       "      <td>C0006142</td>\n",
       "      <td>Malignant tumor of breast</td>\n",
       "      <td>T191</td>\n",
       "      <td>254837009.0</td>\n",
       "      <td>Q5308606</td>\n",
       "      <td>Q128581</td>\n",
       "    </tr>\n",
       "    <tr>\n",
       "      <th>1</th>\n",
       "      <td>173433</td>\n",
       "      <td>318</td>\n",
       "      <td>21000716</td>\n",
       "      <td>indication</td>\n",
       "      <td>Gout</td>\n",
       "      <td>C0018099</td>\n",
       "      <td>Gout</td>\n",
       "      <td>T047</td>\n",
       "      <td>90560007.0</td>\n",
       "      <td>Q410435</td>\n",
       "      <td>Q133087</td>\n",
       "    </tr>\n",
       "  </tbody>\n",
       "</table>\n",
       "</div>"
      ],
      "text/plain": [
       "       id  struct_id  concept_id relationship_name               concept_name  \\\n",
       "0  173432        965    40249340        indication  Malignant tumor of breast   \n",
       "1  173433        318    21000716        indication                       Gout   \n",
       "\n",
       "   umls_cui           snomed_full_name cui_semantic_type  snomed_conceptid  \\\n",
       "0  C0006142  Malignant tumor of breast              T191       254837009.0   \n",
       "1  C0018099                       Gout              T047        90560007.0   \n",
       "\n",
       "  comp_wd_id dis_wd_id  \n",
       "0   Q5308606   Q128581  \n",
       "1    Q410435   Q133087  "
      ]
     },
     "execution_count": 40,
     "metadata": {},
     "output_type": "execute_result"
    }
   ],
   "source": [
    "inds.head(2)"
   ]
  },
  {
   "cell_type": "markdown",
   "metadata": {},
   "source": [
    "## Compare Indications to Processed WikiData Dumps"
   ]
  },
  {
   "cell_type": "code",
   "execution_count": 41,
   "metadata": {},
   "outputs": [],
   "source": [
    "wd_net_dir = Path('../2_pipeline/01_querying_wikidata_for_hetnet_edges/out/').resolve()\n",
    "\n",
    "nodes_final = pd.read_csv(wd_net_dir.joinpath('2019-09-13/nodes.csv'))\n",
    "nodes_2018 = pd.read_csv(wd_net_dir.joinpath('2018-11-12/nodes.csv'))\n",
    "nodes_2018_02 = pd.read_csv(wd_net_dir.joinpath('2018-02-05/nodes.csv'))\n",
    "nodes_2017 = pd.read_csv(wd_net_dir.joinpath('2017-01-16/nodes.csv'))"
   ]
  },
  {
   "cell_type": "markdown",
   "metadata": {},
   "source": [
    "### How many indications have both the compound and disease in each WikiData Hetnet?"
   ]
  },
  {
   "cell_type": "code",
   "execution_count": 42,
   "metadata": {},
   "outputs": [
    {
     "data": {
      "text/plain": [
       "2940"
      ]
     },
     "execution_count": 42,
     "metadata": {},
     "output_type": "execute_result"
    }
   ],
   "source": [
    "nids = nodes_final[':ID']\n",
    "len(inds.query('comp_wd_id in @nids and dis_wd_id in @nids'))"
   ]
  },
  {
   "cell_type": "code",
   "execution_count": 43,
   "metadata": {},
   "outputs": [
    {
     "data": {
      "text/plain": [
       "2844"
      ]
     },
     "execution_count": 43,
     "metadata": {},
     "output_type": "execute_result"
    }
   ],
   "source": [
    "nids = nodes_2018[':ID']\n",
    "len(inds.query('comp_wd_id in @nids and dis_wd_id in @nids'))"
   ]
  },
  {
   "cell_type": "code",
   "execution_count": 44,
   "metadata": {},
   "outputs": [
    {
     "data": {
      "text/plain": [
       "2027"
      ]
     },
     "execution_count": 44,
     "metadata": {},
     "output_type": "execute_result"
    }
   ],
   "source": [
    "nids = nodes_2018_02[':ID']\n",
    "len(inds.query('comp_wd_id in @nids and dis_wd_id in @nids'))"
   ]
  },
  {
   "cell_type": "code",
   "execution_count": 45,
   "metadata": {
    "scrolled": true
   },
   "outputs": [
    {
     "data": {
      "text/plain": [
       "1837"
      ]
     },
     "execution_count": 45,
     "metadata": {},
     "output_type": "execute_result"
    }
   ],
   "source": [
    "nids = nodes_2017[':ID']\n",
    "len(inds.query('comp_wd_id in @nids and dis_wd_id in @nids'))"
   ]
  },
  {
   "cell_type": "markdown",
   "metadata": {},
   "source": [
    "### How do the actual indications overlap between WikiData and DrugCentral"
   ]
  },
  {
   "cell_type": "code",
   "execution_count": 46,
   "metadata": {},
   "outputs": [],
   "source": [
    "%matplotlib inline\n",
    "from metapaths.tools.plot import venn2_pretty\n",
    "import matplotlib.pyplot as plt"
   ]
  },
  {
   "cell_type": "code",
   "execution_count": 47,
   "metadata": {},
   "outputs": [],
   "source": [
    "edges_final = gt.remove_colons(pd.read_csv(wd_net_dir.joinpath('2019-09-13/edges.csv'), dtype='str'))\n",
    "edges_2018 = gt.remove_colons(pd.read_csv(wd_net_dir.joinpath('2018-11-12/edges.csv'), dtype='str'))\n",
    "edges_2018_02 = gt.remove_colons(pd.read_csv(wd_net_dir.joinpath('2018-02-05/edges.csv'), dtype='str'))\n",
    "edges_2017 = gt.remove_colons(pd.read_csv(wd_net_dir.joinpath('2017-01-16/edges.csv'), dtype='str'))"
   ]
  },
  {
   "cell_type": "code",
   "execution_count": 48,
   "metadata": {},
   "outputs": [
    {
     "data": {
      "text/plain": [
       "4520"
      ]
     },
     "execution_count": 48,
     "metadata": {},
     "output_type": "execute_result"
    }
   ],
   "source": [
    "gs_wd_inds = set(inds.dropna(subset=['comp_wd_id', 'dis_wd_id'])[['comp_wd_id', 'dis_wd_id']].apply(tuple, axis=1))\n",
    "len(gs_wd_inds)"
   ]
  },
  {
   "cell_type": "code",
   "execution_count": 49,
   "metadata": {},
   "outputs": [
    {
     "data": {
      "text/html": [
       "<div>\n",
       "<style scoped>\n",
       "    .dataframe tbody tr th:only-of-type {\n",
       "        vertical-align: middle;\n",
       "    }\n",
       "\n",
       "    .dataframe tbody tr th {\n",
       "        vertical-align: top;\n",
       "    }\n",
       "\n",
       "    .dataframe thead th {\n",
       "        text-align: right;\n",
       "    }\n",
       "</style>\n",
       "<table border=\"1\" class=\"dataframe\">\n",
       "  <thead>\n",
       "    <tr style=\"text-align: right;\">\n",
       "      <th></th>\n",
       "      <th>start_id</th>\n",
       "      <th>end_id</th>\n",
       "      <th>type</th>\n",
       "      <th>qualifier</th>\n",
       "      <th>inner1</th>\n",
       "    </tr>\n",
       "  </thead>\n",
       "  <tbody>\n",
       "    <tr>\n",
       "      <th>0</th>\n",
       "      <td>Q418656</td>\n",
       "      <td>Q422244</td>\n",
       "      <td>SIGNIFICANT_DRUG_INTERACTION_CdiC</td>\n",
       "      <td>NaN</td>\n",
       "      <td>NaN</td>\n",
       "    </tr>\n",
       "    <tr>\n",
       "      <th>1</th>\n",
       "      <td>Q407592</td>\n",
       "      <td>Q409595</td>\n",
       "      <td>SIGNIFICANT_DRUG_INTERACTION_CdiC</td>\n",
       "      <td>NaN</td>\n",
       "      <td>NaN</td>\n",
       "    </tr>\n",
       "  </tbody>\n",
       "</table>\n",
       "</div>"
      ],
      "text/plain": [
       "  start_id   end_id                               type qualifier inner1\n",
       "0  Q418656  Q422244  SIGNIFICANT_DRUG_INTERACTION_CdiC       NaN    NaN\n",
       "1  Q407592  Q409595  SIGNIFICANT_DRUG_INTERACTION_CdiC       NaN    NaN"
      ]
     },
     "execution_count": 49,
     "metadata": {},
     "output_type": "execute_result"
    }
   ],
   "source": [
    "edges_final.head(2)"
   ]
  },
  {
   "cell_type": "code",
   "execution_count": 50,
   "metadata": {},
   "outputs": [
    {
     "data": {
      "image/png": "[encoded data removed]",
      "text/plain": [
       "<Figure size 432x288 with 1 Axes>"
      ]
     },
     "metadata": {},
     "output_type": "display_data"
    }
   ],
   "source": [
    "nw_year = '2019'\n",
    "treats_edges = edges_final.query('type == \"TREATS_CtD\"')\n",
    "\n",
    "\n",
    "treats_edges = set(treats_edges[['start_id', 'end_id']].apply(tuple, axis=1))\n",
    "venn2_pretty([gs_wd_inds, treats_edges], ['DrugCentral Indications\\n(mapped to WD IDs)', \n",
    "                                          'WikiData Treats Edges\\n{} Data Dump'.format(nw_year)])\n"
   ]
  },
  {
   "cell_type": "code",
   "execution_count": 51,
   "metadata": {},
   "outputs": [
    {
     "data": {
      "image/png": "[encoded data removed]",
      "text/plain": [
       "<Figure size 432x288 with 1 Axes>"
      ]
     },
     "metadata": {},
     "output_type": "display_data"
    }
   ],
   "source": [
    "nw_year = '2018 Nov'\n",
    "treats_edges = edges_2018.query('type == \"TREATS_CtD\"')\n",
    "\n",
    "\n",
    "treats_edges = set(treats_edges[['start_id', 'end_id']].apply(tuple, axis=1))\n",
    "venn2_pretty([gs_wd_inds, treats_edges], ['DrugCentral Indications\\n(mapped to WD IDs)', \n",
    "                                          'WikiData Treats Edges\\n{} Data Dump'.format(nw_year)])\n"
   ]
  },
  {
   "cell_type": "code",
   "execution_count": 52,
   "metadata": {},
   "outputs": [
    {
     "data": {
      "image/png": "[encoded data removed]",
      "text/plain": [
       "<Figure size 432x288 with 1 Axes>"
      ]
     },
     "metadata": {},
     "output_type": "display_data"
    }
   ],
   "source": [
    "nw_year = '2018 Feb'\n",
    "treats_edges = edges_2018_02.query('type == \"TREATS_CtD\"')\n",
    "\n",
    "\n",
    "treats_edges = set(treats_edges[['start_id', 'end_id']].apply(tuple, axis=1))\n",
    "venn2_pretty([gs_wd_inds, treats_edges], ['DrugCentral Indications\\n(mapped to WD IDs)', \n",
    "                                          'WikiData Treats Edges\\n{} Data Dump'.format(nw_year)])\n"
   ]
  },
  {
   "cell_type": "code",
   "execution_count": 53,
   "metadata": {},
   "outputs": [
    {
     "data": {
      "image/png": "[encoded data removed]",
      "text/plain": [
       "<Figure size 432x288 with 1 Axes>"
      ]
     },
     "metadata": {},
     "output_type": "display_data"
    }
   ],
   "source": [
    "nw_year = '2017'\n",
    "treats_edges = edges_2017.query('type == \"TREATS_CtD\"')\n",
    "\n",
    "\n",
    "treats_edges = set(treats_edges[['start_id', 'end_id']].apply(tuple, axis=1))\n",
    "venn2_pretty([gs_wd_inds, treats_edges], ['DrugCentral Indications\\n(mapped to WD IDs)', \n",
    "                                          'WikiData Treats Edges\\n{} Data Dump'.format(nw_year)])\n"
   ]
  },
  {
   "cell_type": "markdown",
   "metadata": {},
   "source": [
    "#### Looking only at Identifiers common to both DrugCentral Indications and WikiData Indications"
   ]
  },
  {
   "cell_type": "code",
   "execution_count": 54,
   "metadata": {},
   "outputs": [
    {
     "data": {
      "image/png": "[encoded data removed]",
      "text/plain": [
       "<Figure size 432x288 with 1 Axes>"
      ]
     },
     "metadata": {},
     "output_type": "display_data"
    }
   ],
   "source": [
    "nw_year = '2019'\n",
    "edges = edges_final\n",
    "\n",
    "nids = edges[['start_id', 'end_id']].stack().unique()\n",
    "gs_ids = inds[['comp_wd_id', 'dis_wd_id']].stack().dropna().unique()\n",
    "\n",
    "treats_edges = edges.query('type == \"TREATS_CtD\" and start_id in @gs_ids and end_id in @gs_ids')\n",
    "gs_edges = set(inds.query('comp_wd_id in @nids and dis_wd_id in @nids')[['comp_wd_id', 'dis_wd_id']].apply(tuple, axis=1))\n",
    "treats_edges = set(treats_edges[['start_id', 'end_id']].apply(tuple, axis=1))\n",
    "\n",
    "\n",
    "venn2_pretty([gs_edges, treats_edges], ['DrugCentral Indications\\n(mapped to WD IDs)', \n",
    "                                          'WikiData Treats Edges\\n{} Data Dump'.format(nw_year)])\n",
    "plt.title('Treats edges in DrugCentral gold standard and Wikidata:\\nOnly common identifiers');"
   ]
  },
  {
   "cell_type": "code",
   "execution_count": 55,
   "metadata": {},
   "outputs": [
    {
     "data": {
      "image/png": "[encoded data removed]",
      "text/plain": [
       "<Figure size 432x288 with 1 Axes>"
      ]
     },
     "metadata": {},
     "output_type": "display_data"
    }
   ],
   "source": [
    "nw_year = '2018 Nov'\n",
    "edges = edges_2018\n",
    "\n",
    "nids = edges[['start_id', 'end_id']].stack().unique()\n",
    "gs_ids = inds[['comp_wd_id', 'dis_wd_id']].stack().dropna().unique()\n",
    "\n",
    "treats_edges = edges.query('type == \"TREATS_CtD\" and start_id in @gs_ids and end_id in @gs_ids')\n",
    "gs_edges = set(inds.query('comp_wd_id in @nids and dis_wd_id in @nids')[['comp_wd_id', 'dis_wd_id']].apply(tuple, axis=1))\n",
    "treats_edges = set(treats_edges[['start_id', 'end_id']].apply(tuple, axis=1))\n",
    "\n",
    "venn2_pretty([gs_edges, treats_edges], ['DrugCentral Indications\\n(mapped to WD IDs)', \n",
    "                                          'WikiData Treats Edges\\n{} Data Dump'.format(nw_year)])\n",
    "plt.title('Treats edges in DrugCentral gold standard and Wikidata:\\nOnly common identifiers');"
   ]
  },
  {
   "cell_type": "code",
   "execution_count": 56,
   "metadata": {},
   "outputs": [
    {
     "data": {
      "image/png": "[encoded data removed]",
      "text/plain": [
       "<Figure size 432x288 with 1 Axes>"
      ]
     },
     "metadata": {},
     "output_type": "display_data"
    }
   ],
   "source": [
    "nw_year = '2018 Feb'\n",
    "edges = edges_2018_02\n",
    "\n",
    "nids = edges[['start_id', 'end_id']].stack().unique()\n",
    "gs_ids = inds[['comp_wd_id', 'dis_wd_id']].stack().dropna().unique()\n",
    "\n",
    "treats_edges = edges.query('type == \"TREATS_CtD\" and start_id in @gs_ids and end_id in @gs_ids')\n",
    "gs_edges = set(inds.query('comp_wd_id in @nids and dis_wd_id in @nids')[['comp_wd_id', 'dis_wd_id']].apply(tuple, axis=1))\n",
    "treats_edges = set(treats_edges[['start_id', 'end_id']].apply(tuple, axis=1))\n",
    "\n",
    "venn2_pretty([gs_edges, treats_edges], ['DrugCentral Indications\\n(mapped to WD IDs)', \n",
    "                                          'WikiData Treats Edges\\n{} Data Dump'.format(nw_year)])\n",
    "plt.title('Treats edges in DrugCentral gold standard and Wikidata:\\nOnly common identifiers');"
   ]
  },
  {
   "cell_type": "code",
   "execution_count": 57,
   "metadata": {},
   "outputs": [
    {
     "data": {
      "image/png": "[encoded data removed]",
      "text/plain": [
       "<Figure size 432x288 with 1 Axes>"
      ]
     },
     "metadata": {},
     "output_type": "display_data"
    }
   ],
   "source": [
    "nw_year = '2017 January'\n",
    "edges = edges_2017\n",
    "\n",
    "nids = edges[['start_id', 'end_id']].stack().unique()\n",
    "gs_ids = inds[['comp_wd_id', 'dis_wd_id']].stack().dropna().unique()\n",
    "\n",
    "treats_edges = edges.query('type == \"TREATS_CtD\" and start_id in @gs_ids and end_id in @gs_ids')\n",
    "gs_edges = set(inds.query('comp_wd_id in @nids and dis_wd_id in @nids')[['comp_wd_id', 'dis_wd_id']].apply(tuple, axis=1))\n",
    "treats_edges = set(treats_edges[['start_id', 'end_id']].apply(tuple, axis=1))\n",
    "\n",
    "venn2_pretty([gs_edges, treats_edges], ['DrugCentral Indications\\n(mapped to WD IDs)', \n",
    "                                          'WikiData Treats Edges\\n{} Data Dump'.format(nw_year)])\n",
    "plt.title('Treats edges in DrugCentral gold standard and Wikidata:\\nOnly common identifiers');"
   ]
  },
  {
   "cell_type": "code",
   "execution_count": 58,
   "metadata": {},
   "outputs": [],
   "source": [
    "this_name = '05_converting_DrugCentral_indications_to_WikiData'\n",
    "\n",
    "out_dir = Path('../2_pipeline/').joinpath(this_name).joinpath('out')\n",
    "out_dir.mkdir(parents=True, exist_ok=True)\n",
    "    \n",
    "inds.to_csv(out_dir.joinpath('gold_standard.csv'), index=False)"
   ]
  }
 ],
 "metadata": {
  "kernelspec": {
   "display_name": "Python 3",
   "language": "python",
   "name": "python3"
  },
  "language_info": {
   "codemirror_mode": {
    "name": "ipython",
    "version": 3
   },
   "file_extension": ".py",
   "mimetype": "text/x-python",
   "name": "python",
   "nbconvert_exporter": "python",
   "pygments_lexer": "ipython3",
   "version": "3.6.8"
  }
 },
 "nbformat": 4,
 "nbformat_minor": 2
}
